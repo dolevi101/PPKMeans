{
 "cells": [
  {
   "cell_type": "code",
   "execution_count": 2,
   "metadata": {
    "colab": {
     "base_uri": "https://localhost:8080/"
    },
    "id": "U-_7Vg4Y_hWg",
    "outputId": "c9cc46b3-abc3-437c-b417-13ebf1787a9a"
   },
   "outputs": [
    {
     "name": "stdout",
     "output_type": "stream",
     "text": [
      "Requirement already satisfied: tenseal in c:\\users\\dolev\\appdata\\local\\programs\\python\\python38\\lib\\site-packages (0.3.12)\n",
      "Requirement already satisfied: numpy in c:\\users\\dolev\\appdata\\local\\programs\\python\\python38\\lib\\site-packages (1.19.5)\n",
      "Requirement already satisfied: matplotlib in c:\\users\\dolev\\appdata\\local\\programs\\python\\python38\\lib\\site-packages (3.4.2)\n",
      "Requirement already satisfied: numpy>=1.16 in c:\\users\\dolev\\appdata\\local\\programs\\python\\python38\\lib\\site-packages (from matplotlib) (1.19.5)\n",
      "Requirement already satisfied: cycler>=0.10 in c:\\users\\dolev\\appdata\\local\\programs\\python\\python38\\lib\\site-packages (from matplotlib) (0.10.0)\n",
      "Requirement already satisfied: pyparsing>=2.2.1 in c:\\users\\dolev\\appdata\\local\\programs\\python\\python38\\lib\\site-packages (from matplotlib) (2.4.7)\n",
      "Requirement already satisfied: pillow>=6.2.0 in c:\\users\\dolev\\appdata\\local\\programs\\python\\python38\\lib\\site-packages (from matplotlib) (8.3.1)\n",
      "Requirement already satisfied: kiwisolver>=1.0.1 in c:\\users\\dolev\\appdata\\local\\programs\\python\\python38\\lib\\site-packages (from matplotlib) (1.3.1)\n",
      "Requirement already satisfied: python-dateutil>=2.7 in c:\\users\\dolev\\appdata\\local\\programs\\python\\python38\\lib\\site-packages (from matplotlib) (2.8.2)\n",
      "Requirement already satisfied: six in c:\\users\\dolev\\appdata\\local\\programs\\python\\python38\\lib\\site-packages (from cycler>=0.10->matplotlib) (1.15.0)\n"
     ]
    }
   ],
   "source": [
    "!pip install tenseal\n",
    "!pip install numpy\n",
    "!pip install matplotlib"
   ]
  },
  {
   "cell_type": "code",
   "execution_count": 3,
   "metadata": {
    "id": "x3MofrjU_gp3"
   },
   "outputs": [],
   "source": [
    "import copy\n",
    "import tenseal as ts\n",
    "from time import time\n",
    "import numpy as np\n",
    "import math\n",
    "#from sklearn.cluster import KMeans\n",
    "import matplotlib.pyplot as plt"
   ]
  },
  {
   "cell_type": "code",
   "execution_count": 4,
   "metadata": {
    "id": "mDi-JE9l3Rh3"
   },
   "outputs": [],
   "source": [
    "def max_with_lp(x1, x2, x3, x4, p=2):\n",
    "  #alpha = ts.plain_tensor(1/p)\n",
    "  alpha = 1/p\n",
    "  return taylor_series_sqrt_x_plus_1_alpha((x1**p + x2**p+ x3**p+ x4**p) - 1, alpha)\n",
    "\n",
    "def taylor_series_sqrt_x_plus_1_alpha(x, a):\n",
    "  sum_elements = 1\n",
    "  #print(\"a={}, x={}\".format(a,x.data))\n",
    "  sum_elements += x*a\n",
    "  sum_elements += 0.5*a*(a-1)*(x**2)\n",
    "  sum_elements += (1/6)*a*(a-1)*(a-2)*(x**3)\n",
    "\n",
    "  return sum_elements\n",
    "\n",
    "def distance(a, b):\n",
    "  return a - b\n",
    "\n",
    "#todo remove\n",
    "#was d=3\n",
    "def get_p_value(x, max_val, d=2):\n",
    "  p = (x * approx_to_1_div_x(max_val))**d\n",
    "  #print(\"p = {}\".format(p))\n",
    "  return p\n",
    "\n",
    "#converges only when 0<x<2\n",
    "#was n=3\n",
    "def approx_to_1_div_x(x, n=2):\n",
    "  mul = 1\n",
    "  for i in range(n):\n",
    "    mul *= (1+(1-x)**(2**i))\n",
    "  return mul\n",
    "\n",
    "\n",
    "def prob_to_be_in_center(x1, x2, x3, x4, c):\n",
    "  d1 = distance(x1, c)\n",
    "  d2 = distance(x2, c)\n",
    "  d3 = distance(x3, c)\n",
    "  d4 = distance(x4, c)\n",
    "  #max_val_1 = max_with_lp(d1, d2)\n",
    "  #max_val_2 = max_with_lp(d3, d4)\n",
    "  max_val = max_with_lp(d1, d2,d3, d4)\n",
    "  prob = get_p_value(d1, max_val) * x1\n",
    "  #prob = get_p_value(d1, max_val)\n",
    "  prob += x2 * get_p_value(d2, max_val)\n",
    "  prob += x3 * get_p_value(d3, max_val)\n",
    "  prob += x4 * get_p_value(d4, max_val)\n",
    "  #return prob/2\n",
    "  return prob\n",
    "\n",
    "def get_ckks_context():\n",
    "  # parameters\n",
    "  #poly_mod_degree = 2**12\n",
    "  poly_mod_degree = 2**13\n",
    "  #coeff_mod_bit_sizes = [40, 20, 40]\n",
    "  coeff_mod_bit_sizes = [35, 25, 25, 25, 25, 25, 25, 25, 25, 35]\n",
    "  # create TenSEALContext\n",
    "  context = ts.context(ts.SCHEME_TYPE.CKKS, poly_mod_degree, -1, coeff_mod_bit_sizes)\n",
    "  # scale of ciphertext to use\n",
    "  #context.global_scale = 2 ** 20\n",
    "  context.global_scale = 2 ** 25\n",
    "  # this key is needed for doing dot-product operations\n",
    "  context.generate_galois_keys()\n",
    "  return context\n",
    "\n",
    "def get_other_context():\n",
    "  # parameters\n",
    "  poly_mod_degree = 16384\n",
    "  #poly_mod_degree = 32768\n",
    "  #coeff_mod_bit_sizes = [40, 21, 21, 21, 21, 21, 21, 40]\n",
    "  coeff_mod_bit_sizes = [60,35,35,35,35,35,35,35,35,35,60]\n",
    "  print(\"sum of coeff_mod_bit_sizes=\", sum(coeff_mod_bit_sizes))\n",
    "  # create TenSEALContext\n",
    "  ctx_training = ts.context(ts.SCHEME_TYPE.CKKS, poly_mod_degree, -1, coeff_mod_bit_sizes)\n",
    "  ctx_training.global_scale = 2 ** 35\n",
    "  ctx_training.generate_galois_keys()\n",
    "  return ctx_training\n",
    "\n",
    "def get_bfv_context():\n",
    "  context = ts.context(ts.SCHEME_TYPE.BFV, poly_modulus_degree=4096, plain_modulus=1032193)\n",
    "  return context"
   ]
  },
  {
   "cell_type": "code",
   "execution_count": null,
   "metadata": {
    "colab": {
     "base_uri": "https://localhost:8080/"
    },
    "id": "Ed2vy0Ex4wbd",
    "outputId": "cdcaff78-8749-46ac-a3d6-dd1b29c42200"
   },
   "outputs": [
    {
     "name": "stdout",
     "output_type": "stream",
     "text": [
      "sum of coeff_mod_bit_sizes= 435\n",
      "new_center =  [0.19627694395485792]\n",
      "new_center =  [0.8426215666692896]\n"
     ]
    }
   ],
   "source": [
    "x1 = 0.1\n",
    "x2 = 0.9\n",
    "x3 = 0.2\n",
    "x4 = 0.8\n",
    "c = 0.7\n",
    "\n",
    "context = get_other_context()\n",
    "encrypted_x1 = ts.ckks_tensor(context, [x1])\n",
    "encrypted_x2 = ts.ckks_tensor(context, [x2])\n",
    "encrypted_x3 = ts.ckks_tensor(context, [x3])\n",
    "encrypted_x4 = ts.ckks_tensor(context, [x4])\n",
    "\n",
    "encrypted_c = ts.ckks_tensor(context, [c])\n",
    "\n",
    "enc_new_center = prob_to_be_in_center(encrypted_x1, encrypted_x2,encrypted_x3,encrypted_x4, encrypted_c)\n",
    "new_center_dec = enc_new_center.decrypt().tolist()\n",
    "print(\"new_center = \", new_center_dec)\n",
    "\n",
    "for i in range(4):\n",
    "    new_center_plain = new_center_dec[0]*0.25\n",
    "    encrypted_c = ts.ckks_tensor(context, [new_center_plain])\n",
    "    enc_new_center = prob_to_be_in_center(encrypted_x1, encrypted_x2,encrypted_x3,encrypted_x4, encrypted_c)\n",
    "    new_center_dec = enc_new_center.decrypt().tolist()\n",
    "    print(\"new_center = \", new_center_dec)\n",
    "\n",
    "\n",
    "\n"
   ]
  },
  {
   "cell_type": "code",
   "execution_count": null,
   "metadata": {
    "id": "gCPMcCryygPk"
   },
   "outputs": [],
   "source": [
    "dim = 2\n",
    "centers = initial_centers\n",
    "data = plain_data\n",
    "plain_centers = plain_recalculate_centers(centers, data, dim)"
   ]
  },
  {
   "cell_type": "code",
   "execution_count": null,
   "metadata": {
    "colab": {
     "base_uri": "https://localhost:8080/",
     "height": 499
    },
    "id": "K6QPrQzB_Tj6",
    "outputId": "87b6ece0-3efd-4e9a-cece-ae3a92cfe835"
   },
   "outputs": [],
   "source": [
    "data_encrypted_vector = ts.ckks_tensor(context, plain_data)\n",
    "\n",
    "center_encrypted_vector = ts.ckks_tensor(context, initial_centers)\n",
    "\n",
    "d = 2\n",
    "# d > 2 causes an error\n",
    "dim = 2\n",
    "\n",
    "for i in range(2):\n",
    "    C_final = recalculate_centers(d, initial_centers, plain_data, dim)\n",
    "    #C_final = recalculate_centers(d, center_encrypted_vector, data_encrypted_vector, dim)\n",
    "    initial_centers = C_final\n",
    "draw_points(C_final, \"C_final\")\n",
    "\n",
    "\n",
    "\n",
    "\n",
    "centers_colors = []\n",
    "C_final = C_final.decrypt()\n",
    "for x in data_encrypted_vector:\n",
    "    if(calc_dist(x,C_final[0]) > calc_dist(x,C_final[1])):\n",
    "        centers_colors.append(0)\n",
    "    else:\n",
    "        centers_colors.append(1)\n",
    "data = np.array([v.decrypt(sk) for v in data_encrypted_vector ])\n",
    "centers_colors = np.array([v.decrypt(sk) for v in center_encrypted_vector ])\n",
    "#data = np.append(data,C_final,axis=0)\n",
    "centers_colors.append(3)\n",
    "centers_colors.append(5)\n",
    "print(\"ours: \")\n",
    "print(C_final)\n",
    "print(\"sklearn: \")\n",
    "print(run_kmeans(2, data))\n",
    "print(data.shape)\n",
    "print_fig(data, centers_colors,\"cluster\")"
   ]
  },
  {
   "cell_type": "code",
   "execution_count": null,
   "metadata": {
    "id": "7AnD3U272aZg"
   },
   "outputs": [],
   "source": []
  },
  {
   "cell_type": "code",
   "execution_count": null,
   "metadata": {
    "colab": {
     "base_uri": "https://localhost:8080/",
     "height": 545
    },
    "id": "XnHoUP7-dlVd",
    "outputId": "347cb536-3f99-45db-e264-ef54da2f7ad5"
   },
   "outputs": [],
   "source": [
    "plain_data = np.array([[-10,-1], [-4,-2], [-6,-10], [-9,-8], [9,10], [9,8], [10,9], [10,4]])\n",
    "draw_points(plain_data, \"Original Data\")\n",
    "\n",
    "#initial centers, chosen arbitrarily\n",
    "initial_centers = np.array([[-1, -5], [2, 6]])\n",
    "draw_points(initial_centers, \"Initial Centers\")"
   ]
  },
  {
   "cell_type": "code",
   "execution_count": null,
   "metadata": {
    "id": "ytAqL2LuaxkC"
   },
   "outputs": [],
   "source": [
    "def print_fig(X, centers_colors, plot_name):\n",
    "    # Create a scatter plot\n",
    "    fig, axs = plt.subplots(nrows=1, ncols=1)\n",
    "    axs.scatter(X[:,0], y=X[:,1], c=centers_colors)\n",
    "    axs.set_title(plot_name)\n",
    "    fig.show()\n",
    "\n",
    "\n",
    "def run_kmeans(n_clusters, data):\n",
    "    kmeans = KMeans(n_clusters=n_clusters, random_state=0).fit(data)\n",
    "    return kmeans.cluster_centers_\n",
    "\n",
    "\n",
    "def recalculate_centers(d, C, X, dim):\n",
    "    C_new = copy.copy(C)\n",
    "    for i in range(dim):\n",
    "        sum_c = 0\n",
    "        len_c = 0\n",
    "        for x in X:\n",
    "            p = calculate_p_value(d, x, C, i)\n",
    "            sum_c += p * x\n",
    "            len_c += p\n",
    "        C_new[i] = sum_c/len_c\n",
    "    return C_new\n",
    "\n",
    "\n",
    "# dist without sqrt\n",
    "def calc_dist(x1, x2):\n",
    "    sum_p = (x1 - x2)**1\n",
    "    #print(\"sum_p in calc_dist={}\".format(sum_p.decrypt().tolist()))\n",
    "\n",
    "    return sum_p\n",
    "\n",
    "\n",
    "\n",
    "def calculate_p_value(d, x, c, i):\n",
    "    d_ref = calc_dist(x, c[i])**d\n",
    "    d0 = calc_dist(x, c[0])**d\n",
    "    d1 = calc_dist(x, c[1])**d\n",
    "    res2 = taylor_series(-d0-d1)*taylor_series(d_ref)\n",
    "    result = res2\n",
    "    return result\n",
    "\n",
    "\n",
    "# taylor series of degree n for e^x function\n",
    "def taylor_series(x):\n",
    "    summ = 0\n",
    "    for n in range(3):\n",
    "      summ += (1/math.factorial(n))*(x**n)\n",
    "    return summ\n",
    "\n",
    "\n",
    "def calculate_p_value_not_pow(d, x, c, i, dim):\n",
    "    return ((calc_dist(x, c[i], dim))**d)/(calc_dist(x, c[0], dim)**d+calc_dist(x, c[1], dim)**d)\n",
    "\n",
    "\n",
    "def context():\n",
    "    #context = ts.context(ts.SCHEME_TYPE.CKKS, 8192,-1 ,coeff_mod_bit_sizes=[60, 40, 40, 60])\n",
    "    # parameters\n",
    "    poly_mod_degree = 4096\n",
    "    coeff_mod_bit_sizes = [40, 20, 40]\n",
    "    # create TenSEALContext\n",
    "    context = ts.context(ts.SCHEME_TYPE.CKKS, poly_mod_degree, -1, coeff_mod_bit_sizes)\n",
    "    # scale of ciphertext to use\n",
    "    context.global_scale = 2 ** 20\n",
    "    # this key is needed for doing dot-product operations\n",
    "    context.generate_galois_keys()\n",
    "    return context\n",
    "\n",
    "def draw_points(data, title):\n",
    "    fig, axs = plt.subplots(nrows=1, ncols=1)\n",
    "    axs.scatter(data[:,0], y=data[:,1])\n",
    "    axs.set_title(title)\n",
    "    axs.set_xlim([-13, 13])\n",
    "    axs.set_ylim([-13, 13])\n",
    "    fig.show()"
   ]
  }
 ],
 "metadata": {
  "colab": {
   "provenance": []
  },
  "kernelspec": {
   "display_name": "Python 3 (ipykernel)",
   "language": "python",
   "name": "python3"
  },
  "language_info": {
   "codemirror_mode": {
    "name": "ipython",
    "version": 3
   },
   "file_extension": ".py",
   "mimetype": "text/x-python",
   "name": "python",
   "nbconvert_exporter": "python",
   "pygments_lexer": "ipython3",
   "version": "3.8.8"
  }
 },
 "nbformat": 4,
 "nbformat_minor": 4
}

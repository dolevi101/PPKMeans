{
  "cells": [
    {
      "cell_type": "markdown",
      "metadata": {
        "id": "view-in-github",
        "colab_type": "text"
      },
      "source": [
        "<a href=\"https://colab.research.google.com/github/dolevi101/PPKMeans/blob/main/Privacy_Preserving_K_Means.ipynb\" target=\"_parent\"><img src=\"https://colab.research.google.com/assets/colab-badge.svg\" alt=\"Open In Colab\"/></a>"
      ]
    },
    {
      "cell_type": "code",
      "execution_count": 1,
      "metadata": {
        "colab": {
          "base_uri": "https://localhost:8080/"
        },
        "id": "U-_7Vg4Y_hWg",
        "outputId": "dea7804e-70f0-4107-d0ac-e5d5fb2c5f9c"
      },
      "outputs": [
        {
          "output_type": "stream",
          "name": "stdout",
          "text": [
            "Looking in indexes: https://pypi.org/simple, https://us-python.pkg.dev/colab-wheels/public/simple/\n",
            "Collecting tenseal\n",
            "  Downloading tenseal-0.3.12-cp38-cp38-manylinux_2_17_x86_64.manylinux2014_x86_64.whl (4.9 MB)\n",
            "\u001b[K     |████████████████████████████████| 4.9 MB 25.0 MB/s \n",
            "\u001b[?25hInstalling collected packages: tenseal\n",
            "Successfully installed tenseal-0.3.12\n",
            "Looking in indexes: https://pypi.org/simple, https://us-python.pkg.dev/colab-wheels/public/simple/\n",
            "Requirement already satisfied: numpy in /usr/local/lib/python3.8/dist-packages (1.21.6)\n",
            "Looking in indexes: https://pypi.org/simple, https://us-python.pkg.dev/colab-wheels/public/simple/\n",
            "Requirement already satisfied: matplotlib in /usr/local/lib/python3.8/dist-packages (3.2.2)\n",
            "Requirement already satisfied: kiwisolver>=1.0.1 in /usr/local/lib/python3.8/dist-packages (from matplotlib) (1.4.4)\n",
            "Requirement already satisfied: numpy>=1.11 in /usr/local/lib/python3.8/dist-packages (from matplotlib) (1.21.6)\n",
            "Requirement already satisfied: cycler>=0.10 in /usr/local/lib/python3.8/dist-packages (from matplotlib) (0.11.0)\n",
            "Requirement already satisfied: pyparsing!=2.0.4,!=2.1.2,!=2.1.6,>=2.0.1 in /usr/local/lib/python3.8/dist-packages (from matplotlib) (3.0.9)\n",
            "Requirement already satisfied: python-dateutil>=2.1 in /usr/local/lib/python3.8/dist-packages (from matplotlib) (2.8.2)\n",
            "Requirement already satisfied: six>=1.5 in /usr/local/lib/python3.8/dist-packages (from python-dateutil>=2.1->matplotlib) (1.15.0)\n"
          ]
        }
      ],
      "source": [
        "!pip install tenseal\n",
        "!pip install numpy\n",
        "!pip install matplotlib"
      ]
    },
    {
      "cell_type": "code",
      "execution_count": 2,
      "metadata": {
        "id": "x3MofrjU_gp3"
      },
      "outputs": [],
      "source": [
        "import copy\n",
        "import tenseal as ts\n",
        "import time\n",
        "import numpy as np\n",
        "import math\n",
        "from sklearn.cluster import KMeans\n",
        "import matplotlib.pyplot as plt\n",
        "import itertools\n",
        "import random"
      ]
    },
    {
      "cell_type": "code",
      "execution_count": 26,
      "metadata": {
        "id": "mDi-JE9l3Rh3"
      },
      "outputs": [],
      "source": [
        "def max_with_lp(distances, p=20):\n",
        "  #alpha = ts.plain_tensor(1/p)\n",
        "  alpha = 1/p\n",
        "  #return taylor_series_sqrt_x_plus_1_alpha((x1**p + x2**p+ x3**p+ x4**p) - 1, alpha)\n",
        "  result_pow = [dist**p for dist in distances]\n",
        "  return sum(result_pow)\n",
        "  #return (x1**p + x2**p+ x3**p+ x4**p)\n",
        "\n",
        "\n",
        "def taylor_series_sqrt_x_plus_1_alpha(x, a):\n",
        "  sum_elements = 1\n",
        "  #print(\"a={}, x={}\".format(a,x.data))\n",
        "  sum_elements += x*a\n",
        "  sum_elements += 0.5*a*(a-1)*(x**2)\n",
        "  sum_elements += (1/6)*a*(a-1)*(a-2)*(x**3)\n",
        "  return sum_elements\n",
        "\n",
        "\n",
        "def distance(a, b):\n",
        "  return a-b\n",
        "\n",
        "\n",
        "def get_p_value(x, max_val, p,n):\n",
        "  #approx = approx_to_1_div_x(max_val,n)\n",
        "  approx = inverse(max_val,n)\n",
        "  xp = x**p\n",
        "  #print(\"xp = {} approx = {}, real = {}\".format(xp.decrypt().tolist()[0], approx.decrypt().tolist()[0], (1/(max_val.decrypt().tolist()[0]))))\n",
        "  #print(\"x = {}, max_val = {}\".format(x, max_val))\n",
        "  #return xp/max_val\n",
        "  prob = xp * approx\n",
        "  return prob\n",
        "  \n",
        "\n",
        "#converges only when 0<x<2\n",
        "def approx_to_1_div_x(x, n):\n",
        "  #print(\"x in approx_to_1_div_x is: {}\".format(x))\n",
        "  mul = 1\n",
        "  for i in range(n):\n",
        "    mul *= (1+(1-x)**(2**i))\n",
        "  #print(\"1/{} = {}\".format(x,mul))\n",
        "  return mul\n",
        "\n",
        "\n",
        "def inverse(x, n):\n",
        "    a = 2 - x\n",
        "    b = 1 - x\n",
        "    for i in range(n):\n",
        "        b = b**2\n",
        "        a = a*(1 + b)\n",
        "    return a\n",
        "\n",
        "\n",
        "def prob_to_be_in_center(data, centers, p,n):\n",
        "  num_of_centers = len(centers)\n",
        "  num_of_points = len(data)\n",
        "  distances = []\n",
        "  sum_distance_p_from_center = []\n",
        "  for x in data:\n",
        "      temp_dis = []\n",
        "      temp_sum = 0\n",
        "      for c in centers:\n",
        "            dis = distance(x, c)\n",
        "            temp_dis.append(dis)\n",
        "            dis_pow = dis**p\n",
        "            temp_sum += dis_pow\n",
        "\n",
        "      sum_distance_p_from_center.append(temp_sum)\n",
        "      distances.append(temp_dis)\n",
        "    \n",
        "\n",
        "  probs = []\n",
        "  p_values_sum = []\n",
        "  for i in range(num_of_centers):\n",
        "    probs_sum = 0\n",
        "    p_values_sum_per_center = 0\n",
        "    for j in range(num_of_points):\n",
        "        p_value = get_p_value(distances[j][i], sum_distance_p_from_center[j], p,n)\n",
        "        probs_sum += data[j] * (1 - p_value)\n",
        "        p_values_sum_per_center += (1 - p_value)\n",
        "        if to_print:\n",
        "          print(\"@@@@@\")\n",
        "          if is_pp_case:\n",
        "            print(\"point: {}, center: {}, 1 - p_value: {}\".format(data[j].decrypt().tolist()[0], centers[i].decrypt().tolist()[0], 1 - p_value.decrypt().tolist()[0])) \n",
        "          else:\n",
        "            print(\"point: {}, center: {}, 1 - p_value: {}\".format(data[j], centers[i], 1 - p_value))\n",
        "    probs.append(probs_sum)\n",
        "    p_values_sum.append(p_values_sum_per_center)\n",
        "    print(\"finished center {}/{}\".format(i+1, num_of_centers))\n",
        "  return probs, p_values_sum\n",
        "\n",
        "\n",
        "def get_ckks_context():\n",
        "  # parameters\n",
        "  #poly_mod_degree = 2**12\n",
        "  poly_mod_degree = 2**13\n",
        "  #coeff_mod_bit_sizes = [40, 20, 40]\n",
        "  coeff_mod_bit_sizes = [35, 25, 25, 25, 25, 25, 25, 25, 25, 35]\n",
        "  # create TenSEALContext\n",
        "  context = ts.context(ts.SCHEME_TYPE.CKKS, poly_mod_degree, -1, coeff_mod_bit_sizes)\n",
        "  # scale of ciphertext to use\n",
        "  #context.global_scale = 2 ** 20\n",
        "  context.global_scale = 2 ** 25\n",
        "  # this key is needed for doing dot-product operations\n",
        "  context.generate_galois_keys()\n",
        "  return context\n",
        "\n",
        "\n",
        "def get_other_context():\n",
        "  # parameters\n",
        "  #poly_mod_degree = 8192\n",
        "  poly_mod_degree = 16384\n",
        "  #poly_mod_degree = 32768\n",
        "  #coeff_mod_bit_sizes = [40, 21, 21, 21, 21, 21, 21, 40]\n",
        "  coeff_mod_bit_sizes = [60,35,35,35,35,35,35,35,35,35,60]\n",
        "  #coeff_mod_bit_sizes = [60,50,50,50,50,50,50,50,50,50,50,50,60]\n",
        "  print(\"sum of coeff_mod_bit_sizes=\", sum(coeff_mod_bit_sizes))\n",
        "  # create TenSEALContext\n",
        "  ctx_training = ts.context(ts.SCHEME_TYPE.CKKS, poly_mod_degree, -1, coeff_mod_bit_sizes)\n",
        "  ctx_training.global_scale = 2 ** 35\n",
        "  ctx_training.generate_galois_keys()\n",
        "  return ctx_training\n",
        "\n",
        "\n",
        "def print_fig(X, centers_colors, plot_name):\n",
        "    # Create a scatter plot\n",
        "    fig, axs = plt.subplots(nrows=1, ncols=1)\n",
        "    axs.scatter(X, [0]*len(X), c=centers_colors)\n",
        "    axs.set_title(plot_name)\n",
        "    fig.show()"
      ]
    },
    {
      "cell_type": "code",
      "execution_count": 5,
      "metadata": {
        "id": "bEqh-Ewz9dgt"
      },
      "outputs": [],
      "source": [
        "def real_kmeans(n_clusters, data):\n",
        "    print(\"real_kmeans...\")\n",
        "    kmeans = KMeans(n_clusters=n_clusters, random_state=0).fit(np.array(data).reshape(-1, 1))\n",
        "    labels_data = [0]*len(data)\n",
        "    labels_centers = [1]*len(kmeans.cluster_centers_)\n",
        "    labels = labels_data + labels_centers\n",
        "    X = data + list(kmeans.cluster_centers_)  \n",
        "    print_fig(X, labels, \"real kmeans\")\n",
        "    return kmeans.cluster_centers_"
      ]
    },
    {
      "cell_type": "code",
      "execution_count": 28,
      "metadata": {
        "id": "s41bcgcR9dgt"
      },
      "outputs": [],
      "source": [
        "def our_kmeans(data, centers, n, p, iterations):\n",
        "    is_pp_case = False\n",
        "    print(\"our_kmeans...\")\n",
        "    start = time.time()\n",
        "    probs, p_values_sum = prob_to_be_in_center(data, centers,p,n)\n",
        "    new_centers = [probs[c_index]/p_values_sum[c_index] for c_index in range(len(centers))]\n",
        "    end = time.time()\n",
        "\n",
        "    print(\"({}/{}) centers = {}, Duration: {} seconds\".format(1, iterations, new_centers, end - start))\n",
        "\n",
        "    for i in range(1, iterations):\n",
        "        start = time.time()\n",
        "        probs, p_values_sum = prob_to_be_in_center(data, new_centers,p,n)\n",
        "        new_centers = [probs[c_index]/p_values_sum[c_index] for c_index in range(len(centers))]\n",
        "        end = time.time()\n",
        "        print(\"({}/{}) centers = {}, Duration: {} seconds\".format(i+1, iterations, new_centers, end - start))\n",
        "\n",
        "    print(\"({}/{}) centers = {}, Duration: {} seconds\".format(i+1, iterations, new_centers, end - start))\n",
        "\n",
        "    labels_data = [0]*len(data)\n",
        "    labels_centers = [1]*len(new_centers)\n",
        "    labels = labels_data + labels_centers\n",
        "    X = data + new_centers    \n",
        "    print_fig(X, labels, \"our kmeans\")"
      ]
    },
    {
      "cell_type": "code",
      "execution_count": 29,
      "metadata": {
        "id": "4vdW_J4X9dgu"
      },
      "outputs": [],
      "source": [
        "def encrypted_kmeans(data, centers, n, p, iterations):\n",
        "    is_pp_case = True\n",
        "    print(\"encrypted_kmeans...\")\n",
        "    context = get_other_context()\n",
        "    enc_data = [ts.ckks_tensor(context, [item]) for item in data]\n",
        "    enc_centers = [ts.ckks_tensor(context, [item]) for item in centers]\n",
        "    \n",
        "    start = time.time()\n",
        "    res_probs, res_p_values_sum = prob_to_be_in_center(enc_data, enc_centers,p,n)\n",
        "    probs, p_values_sum = [item.decrypt().tolist()[0] for item in res_probs], [item.decrypt().tolist()[0] for item in res_p_values_sum]\n",
        "    \n",
        "    new_centers = [probs[c_index]/p_values_sum[c_index] for c_index in range(len(centers))]\n",
        "    end = time.time()\n",
        "\n",
        "    print(\"({}/{}) centers = {}, Duration: {} seconds\".format(1, iterations, new_centers, end - start))\n",
        "\n",
        "    for i in range(1, iterations):\n",
        "        start = time.time()\n",
        "        enc_data = [ts.ckks_tensor(context, [item]) for item in data]\n",
        "        enc_centers = [ts.ckks_tensor(context, [item]) for item in new_centers]\n",
        "        res_probs, res_p_values_sum = prob_to_be_in_center(enc_data, enc_centers,p,n)\n",
        "        probs, p_values_sum = [item.decrypt().tolist()[0] for item in res_probs], [item.decrypt().tolist()[0] for item in res_p_values_sum]\n",
        "        new_centers = [probs[c_index]/p_values_sum[c_index] for c_index in range(len(centers))]\n",
        "        end = time.time()\n",
        "        print(\"({}/{}) centers = {}, Duration: {} seconds\".format(i+1, iterations, new_centers, end - start))\n",
        "\n",
        "    print(\"({}/{}) centers = {}, Duration: {} seconds\".format(i+1, iterations, new_centers, end - start))\n",
        "\n",
        "    labels_data = [0]*len(data)\n",
        "    labels_centers = [1]*len(new_centers)\n",
        "    labels = labels_data + labels_centers\n",
        "    X = data + new_centers    \n",
        "    print_fig(X, labels, \"encrypted kmeans\")"
      ]
    },
    {
      "cell_type": "code",
      "execution_count": 7,
      "metadata": {
        "id": "Y_c7NxFO9dgv"
      },
      "outputs": [],
      "source": [
        "static_data = [random.uniform(0,0.2) for i in range(50)] + [random.uniform(0.5,0.9) for i in range(50)]"
      ]
    },
    {
      "cell_type": "code",
      "execution_count": 30,
      "metadata": {
        "colab": {
          "base_uri": "https://localhost:8080/",
          "height": 1000
        },
        "id": "ilqg6SKL9dgw",
        "outputId": "8b9af7e7-96ff-4834-e6c8-58a4ebf5f50d"
      },
      "outputs": [
        {
          "output_type": "stream",
          "name": "stdout",
          "text": [
            "encrypted_kmeans...\n",
            "sum of coeff_mod_bit_sizes= 435\n",
            "@@@@@\n",
            "point: 0.1000001748596818, center: 0.48000007852831283, 1 - p_value: 0.7067416699232083\n",
            "@@@@@\n",
            "point: 0.8999999318301326, center: 0.48000007852831283, 1 - p_value: 0.21465930344549833\n",
            "@@@@@\n",
            "point: 0.20000006013387092, center: 0.48000007852831283, 1 - p_value: 0.7543200068921464\n",
            "@@@@@\n",
            "point: 0.8000000256135943, center: 0.48000007852831283, 1 - p_value: 0.23324296615707563\n",
            "finished center 1/2\n",
            "@@@@@\n",
            "point: 0.1000001748596818, center: 0.6900001293482604, 1 - p_value: 0.29305212489423094\n",
            "@@@@@\n",
            "point: 0.8999999318301326, center: 0.6900001293482604, 1 - p_value: 0.8036650380344883\n",
            "@@@@@\n",
            "point: 0.20000006013387092, center: 0.6900001293482604, 1 - p_value: 0.24760426385090772\n",
            "@@@@@\n",
            "point: 0.8000000256135943, center: 0.6900001293482604, 1 - p_value: 0.9093964847206911\n",
            "finished center 2/2\n",
            "(1/9) centers = [0.31502535297303064, 0.6787711780359035], Duration: 155.4796965122223 seconds\n",
            "@@@@@\n",
            "point: 0.10000011417298893, center: 0.3150255376446769, 1 - p_value: 0.8787409510399177\n",
            "@@@@@\n",
            "point: 0.8999999587354139, center: 0.3150255376446769, 1 - p_value: 0.1252371247460088\n",
            "@@@@@\n",
            "point: 0.20000000317990765, center: 0.3150255376446769, 1 - p_value: 0.9460564670208675\n",
            "@@@@@\n",
            "point: 0.7999999307973529, center: 0.3150255376446769, 1 - p_value: 0.06802821583224494\n",
            "finished center 1/2\n",
            "@@@@@\n",
            "point: 0.10000011417298893, center: 0.6787711849778044, 1 - p_value: 0.12148734030416275\n",
            "@@@@@\n",
            "point: 0.8999999587354139, center: 0.6787711849778044, 1 - p_value: 0.8748870805599759\n",
            "@@@@@\n",
            "point: 0.20000000317990765, center: 0.6787711849778044, 1 - p_value: 0.06545472497887739\n",
            "@@@@@\n",
            "point: 0.7999999307973529, center: 0.6787711849778044, 1 - p_value: 0.9417654928135812\n",
            "finished center 2/2\n",
            "(2/9) centers = [0.22013949964872254, 0.7816800470105073], Duration: 159.22930932044983 seconds\n",
            "@@@@@\n",
            "point: 0.09999993630597152, center: 0.2201395808842136, 1 - p_value: 0.9698694823626188\n",
            "@@@@@\n",
            "point: 0.9000000894215738, center: 0.2201395808842136, 1 - p_value: 0.029209756259512387\n",
            "@@@@@\n",
            "point: 0.19999997183158003, center: 0.2201395808842136, 1 - p_value: 0.998803622924037\n",
            "@@@@@\n",
            "point: 0.7999997900710448, center: 0.2201395808842136, 1 - p_value: 0.002166018716935003\n",
            "finished center 1/2\n",
            "@@@@@\n",
            "point: 0.09999993630597152, center: 0.7816802224625914, 1 - p_value: 0.029933565648884275\n",
            "@@@@@\n",
            "point: 0.9000000894215738, center: 0.7816802224625914, 1 - p_value: 0.9705961168024725\n"
          ]
        },
        {
          "output_type": "error",
          "ename": "KeyboardInterrupt",
          "evalue": "ignored",
          "traceback": [
            "\u001b[0;31m---------------------------------------------------------------------------\u001b[0m",
            "\u001b[0;31mKeyboardInterrupt\u001b[0m                         Traceback (most recent call last)",
            "\u001b[0;32m<ipython-input-30-9c989b1c2e3b>\u001b[0m in \u001b[0;36m<module>\u001b[0;34m\u001b[0m\n\u001b[1;32m     18\u001b[0m \u001b[0;31m#our_kmeans(data, initial_centers, n, p, iterations)\u001b[0m\u001b[0;34m\u001b[0m\u001b[0;34m\u001b[0m\u001b[0;34m\u001b[0m\u001b[0m\n\u001b[1;32m     19\u001b[0m \u001b[0;31m#real_kmeans(len(initial_centers), data)\u001b[0m\u001b[0;34m\u001b[0m\u001b[0;34m\u001b[0m\u001b[0;34m\u001b[0m\u001b[0m\n\u001b[0;32m---> 20\u001b[0;31m \u001b[0mencrypted_kmeans\u001b[0m\u001b[0;34m(\u001b[0m\u001b[0mdata\u001b[0m\u001b[0;34m,\u001b[0m \u001b[0minitial_centers\u001b[0m\u001b[0;34m,\u001b[0m \u001b[0mn\u001b[0m\u001b[0;34m,\u001b[0m \u001b[0mp\u001b[0m\u001b[0;34m,\u001b[0m \u001b[0miterations\u001b[0m\u001b[0;34m)\u001b[0m\u001b[0;34m\u001b[0m\u001b[0;34m\u001b[0m\u001b[0m\n\u001b[0m",
            "\u001b[0;32m<ipython-input-29-ee5e2ed207aa>\u001b[0m in \u001b[0;36mencrypted_kmeans\u001b[0;34m(data, centers, n, p, iterations)\u001b[0m\n\u001b[1;32m     19\u001b[0m         \u001b[0menc_data\u001b[0m \u001b[0;34m=\u001b[0m \u001b[0;34m[\u001b[0m\u001b[0mts\u001b[0m\u001b[0;34m.\u001b[0m\u001b[0mckks_tensor\u001b[0m\u001b[0;34m(\u001b[0m\u001b[0mcontext\u001b[0m\u001b[0;34m,\u001b[0m \u001b[0;34m[\u001b[0m\u001b[0mitem\u001b[0m\u001b[0;34m]\u001b[0m\u001b[0;34m)\u001b[0m \u001b[0;32mfor\u001b[0m \u001b[0mitem\u001b[0m \u001b[0;32min\u001b[0m \u001b[0mdata\u001b[0m\u001b[0;34m]\u001b[0m\u001b[0;34m\u001b[0m\u001b[0;34m\u001b[0m\u001b[0m\n\u001b[1;32m     20\u001b[0m         \u001b[0menc_centers\u001b[0m \u001b[0;34m=\u001b[0m \u001b[0;34m[\u001b[0m\u001b[0mts\u001b[0m\u001b[0;34m.\u001b[0m\u001b[0mckks_tensor\u001b[0m\u001b[0;34m(\u001b[0m\u001b[0mcontext\u001b[0m\u001b[0;34m,\u001b[0m \u001b[0;34m[\u001b[0m\u001b[0mitem\u001b[0m\u001b[0;34m]\u001b[0m\u001b[0;34m)\u001b[0m \u001b[0;32mfor\u001b[0m \u001b[0mitem\u001b[0m \u001b[0;32min\u001b[0m \u001b[0mnew_centers\u001b[0m\u001b[0;34m]\u001b[0m\u001b[0;34m\u001b[0m\u001b[0;34m\u001b[0m\u001b[0m\n\u001b[0;32m---> 21\u001b[0;31m         \u001b[0mres_probs\u001b[0m\u001b[0;34m,\u001b[0m \u001b[0mres_p_values_sum\u001b[0m \u001b[0;34m=\u001b[0m \u001b[0mprob_to_be_in_center\u001b[0m\u001b[0;34m(\u001b[0m\u001b[0menc_data\u001b[0m\u001b[0;34m,\u001b[0m \u001b[0menc_centers\u001b[0m\u001b[0;34m,\u001b[0m\u001b[0mp\u001b[0m\u001b[0;34m,\u001b[0m\u001b[0mn\u001b[0m\u001b[0;34m)\u001b[0m\u001b[0;34m\u001b[0m\u001b[0;34m\u001b[0m\u001b[0m\n\u001b[0m\u001b[1;32m     22\u001b[0m         \u001b[0mprobs\u001b[0m\u001b[0;34m,\u001b[0m \u001b[0mp_values_sum\u001b[0m \u001b[0;34m=\u001b[0m \u001b[0;34m[\u001b[0m\u001b[0mitem\u001b[0m\u001b[0;34m.\u001b[0m\u001b[0mdecrypt\u001b[0m\u001b[0;34m(\u001b[0m\u001b[0;34m)\u001b[0m\u001b[0;34m.\u001b[0m\u001b[0mtolist\u001b[0m\u001b[0;34m(\u001b[0m\u001b[0;34m)\u001b[0m\u001b[0;34m[\u001b[0m\u001b[0;36m0\u001b[0m\u001b[0;34m]\u001b[0m \u001b[0;32mfor\u001b[0m \u001b[0mitem\u001b[0m \u001b[0;32min\u001b[0m \u001b[0mres_probs\u001b[0m\u001b[0;34m]\u001b[0m\u001b[0;34m,\u001b[0m \u001b[0;34m[\u001b[0m\u001b[0mitem\u001b[0m\u001b[0;34m.\u001b[0m\u001b[0mdecrypt\u001b[0m\u001b[0;34m(\u001b[0m\u001b[0;34m)\u001b[0m\u001b[0;34m.\u001b[0m\u001b[0mtolist\u001b[0m\u001b[0;34m(\u001b[0m\u001b[0;34m)\u001b[0m\u001b[0;34m[\u001b[0m\u001b[0;36m0\u001b[0m\u001b[0;34m]\u001b[0m \u001b[0;32mfor\u001b[0m \u001b[0mitem\u001b[0m \u001b[0;32min\u001b[0m \u001b[0mres_p_values_sum\u001b[0m\u001b[0;34m]\u001b[0m\u001b[0;34m\u001b[0m\u001b[0;34m\u001b[0m\u001b[0m\n\u001b[1;32m     23\u001b[0m         \u001b[0mnew_centers\u001b[0m \u001b[0;34m=\u001b[0m \u001b[0;34m[\u001b[0m\u001b[0mprobs\u001b[0m\u001b[0;34m[\u001b[0m\u001b[0mc_index\u001b[0m\u001b[0;34m]\u001b[0m\u001b[0;34m/\u001b[0m\u001b[0mp_values_sum\u001b[0m\u001b[0;34m[\u001b[0m\u001b[0mc_index\u001b[0m\u001b[0;34m]\u001b[0m \u001b[0;32mfor\u001b[0m \u001b[0mc_index\u001b[0m \u001b[0;32min\u001b[0m \u001b[0mrange\u001b[0m\u001b[0;34m(\u001b[0m\u001b[0mlen\u001b[0m\u001b[0;34m(\u001b[0m\u001b[0mcenters\u001b[0m\u001b[0;34m)\u001b[0m\u001b[0;34m)\u001b[0m\u001b[0;34m]\u001b[0m\u001b[0;34m\u001b[0m\u001b[0;34m\u001b[0m\u001b[0m\n",
            "\u001b[0;32m<ipython-input-26-248901398ae4>\u001b[0m in \u001b[0;36mprob_to_be_in_center\u001b[0;34m(data, centers, p, n)\u001b[0m\n\u001b[1;32m     76\u001b[0m     \u001b[0;32mfor\u001b[0m \u001b[0mj\u001b[0m \u001b[0;32min\u001b[0m \u001b[0mrange\u001b[0m\u001b[0;34m(\u001b[0m\u001b[0mnum_of_points\u001b[0m\u001b[0;34m)\u001b[0m\u001b[0;34m:\u001b[0m\u001b[0;34m\u001b[0m\u001b[0;34m\u001b[0m\u001b[0m\n\u001b[1;32m     77\u001b[0m         \u001b[0mp_value\u001b[0m \u001b[0;34m=\u001b[0m \u001b[0mget_p_value\u001b[0m\u001b[0;34m(\u001b[0m\u001b[0mdistances\u001b[0m\u001b[0;34m[\u001b[0m\u001b[0mj\u001b[0m\u001b[0;34m]\u001b[0m\u001b[0;34m[\u001b[0m\u001b[0mi\u001b[0m\u001b[0;34m]\u001b[0m\u001b[0;34m,\u001b[0m \u001b[0msum_distance_p_from_center\u001b[0m\u001b[0;34m[\u001b[0m\u001b[0mj\u001b[0m\u001b[0;34m]\u001b[0m\u001b[0;34m,\u001b[0m \u001b[0mp\u001b[0m\u001b[0;34m,\u001b[0m\u001b[0mn\u001b[0m\u001b[0;34m)\u001b[0m\u001b[0;34m\u001b[0m\u001b[0;34m\u001b[0m\u001b[0m\n\u001b[0;32m---> 78\u001b[0;31m         \u001b[0mprobs_sum\u001b[0m \u001b[0;34m+=\u001b[0m \u001b[0mdata\u001b[0m\u001b[0;34m[\u001b[0m\u001b[0mj\u001b[0m\u001b[0;34m]\u001b[0m \u001b[0;34m*\u001b[0m \u001b[0;34m(\u001b[0m\u001b[0;36m1\u001b[0m \u001b[0;34m-\u001b[0m \u001b[0mp_value\u001b[0m\u001b[0;34m)\u001b[0m\u001b[0;34m\u001b[0m\u001b[0;34m\u001b[0m\u001b[0m\n\u001b[0m\u001b[1;32m     79\u001b[0m         \u001b[0mp_values_sum_per_center\u001b[0m \u001b[0;34m+=\u001b[0m \u001b[0;34m(\u001b[0m\u001b[0;36m1\u001b[0m \u001b[0;34m-\u001b[0m \u001b[0mp_value\u001b[0m\u001b[0;34m)\u001b[0m\u001b[0;34m\u001b[0m\u001b[0;34m\u001b[0m\u001b[0m\n\u001b[1;32m     80\u001b[0m         \u001b[0;32mif\u001b[0m \u001b[0mto_print\u001b[0m\u001b[0;34m:\u001b[0m\u001b[0;34m\u001b[0m\u001b[0;34m\u001b[0m\u001b[0m\n",
            "\u001b[0;32m/usr/local/lib/python3.8/dist-packages/tenseal/tensors/abstract_tensor.py\u001b[0m in \u001b[0;36m__rsub__\u001b[0;34m(self, other)\u001b[0m\n\u001b[1;32m    129\u001b[0m \u001b[0;34m\u001b[0m\u001b[0m\n\u001b[1;32m    130\u001b[0m     \u001b[0;32mdef\u001b[0m \u001b[0m__rsub__\u001b[0m\u001b[0;34m(\u001b[0m\u001b[0mself\u001b[0m\u001b[0;34m,\u001b[0m \u001b[0mother\u001b[0m\u001b[0;34m)\u001b[0m \u001b[0;34m->\u001b[0m \u001b[0;34m\"AbstractTensor\"\u001b[0m\u001b[0;34m:\u001b[0m\u001b[0;34m\u001b[0m\u001b[0;34m\u001b[0m\u001b[0m\n\u001b[0;32m--> 131\u001b[0;31m         \u001b[0mcopy\u001b[0m \u001b[0;34m=\u001b[0m \u001b[0mself\u001b[0m\u001b[0;34m.\u001b[0m\u001b[0mcopy\u001b[0m\u001b[0;34m(\u001b[0m\u001b[0;34m)\u001b[0m\u001b[0;34m\u001b[0m\u001b[0;34m\u001b[0m\u001b[0m\n\u001b[0m\u001b[1;32m    132\u001b[0m         \u001b[0mcopy\u001b[0m\u001b[0;34m.\u001b[0m\u001b[0mneg_\u001b[0m\u001b[0;34m(\u001b[0m\u001b[0;34m)\u001b[0m\u001b[0;34m\u001b[0m\u001b[0;34m\u001b[0m\u001b[0m\n\u001b[1;32m    133\u001b[0m         \u001b[0mcopy\u001b[0m\u001b[0;34m.\u001b[0m\u001b[0madd_\u001b[0m\u001b[0;34m(\u001b[0m\u001b[0mother\u001b[0m\u001b[0;34m)\u001b[0m\u001b[0;34m\u001b[0m\u001b[0;34m\u001b[0m\u001b[0m\n",
            "\u001b[0;32m/usr/local/lib/python3.8/dist-packages/tenseal/tensors/abstract_tensor.py\u001b[0m in \u001b[0;36mcopy\u001b[0;34m(self)\u001b[0m\n\u001b[1;32m     20\u001b[0m \u001b[0;34m\u001b[0m\u001b[0m\n\u001b[1;32m     21\u001b[0m     \u001b[0;32mdef\u001b[0m \u001b[0mcopy\u001b[0m\u001b[0;34m(\u001b[0m\u001b[0mself\u001b[0m\u001b[0;34m)\u001b[0m\u001b[0;34m:\u001b[0m\u001b[0;34m\u001b[0m\u001b[0;34m\u001b[0m\u001b[0m\n\u001b[0;32m---> 22\u001b[0;31m         \u001b[0;32mreturn\u001b[0m \u001b[0mself\u001b[0m\u001b[0;34m.\u001b[0m\u001b[0m_wrap\u001b[0m\u001b[0;34m(\u001b[0m\u001b[0mdata\u001b[0m\u001b[0;34m=\u001b[0m\u001b[0mself\u001b[0m\u001b[0;34m.\u001b[0m\u001b[0mdata\u001b[0m\u001b[0;34m.\u001b[0m\u001b[0mcopy\u001b[0m\u001b[0;34m(\u001b[0m\u001b[0;34m)\u001b[0m\u001b[0;34m)\u001b[0m\u001b[0;34m\u001b[0m\u001b[0;34m\u001b[0m\u001b[0m\n\u001b[0m\u001b[1;32m     23\u001b[0m \u001b[0;34m\u001b[0m\u001b[0m\n\u001b[1;32m     24\u001b[0m     \u001b[0;32mdef\u001b[0m \u001b[0m__copy__\u001b[0m\u001b[0;34m(\u001b[0m\u001b[0mself\u001b[0m\u001b[0;34m)\u001b[0m\u001b[0;34m:\u001b[0m\u001b[0;34m\u001b[0m\u001b[0;34m\u001b[0m\u001b[0m\n",
            "\u001b[0;31mKeyboardInterrupt\u001b[0m: "
          ]
        }
      ],
      "source": [
        "x1 = 0.1\n",
        "x2 = 0.9\n",
        "x3 = 0.2\n",
        "x4 = 0.8\n",
        "data = [x1, x2, x3, x4]\n",
        "c1 = 0.48\n",
        "c2 = 0.69\n",
        "initial_centers = [c1, c2]\n",
        "\n",
        "n=3\n",
        "#p must be even\n",
        "p=2\n",
        "iterations = 9\n",
        "to_print = True\n",
        "\n",
        "#data = static_data\n",
        "\n",
        "#our_kmeans(data, initial_centers, n, p, iterations)\n",
        "#real_kmeans(len(initial_centers), data)\n",
        "encrypted_kmeans(data, initial_centers, n, p, iterations)"
      ]
    },
    {
      "cell_type": "code",
      "execution_count": null,
      "metadata": {
        "id": "o9EXCjVY9dgw"
      },
      "outputs": [],
      "source": []
    }
  ],
  "metadata": {
    "colab": {
      "provenance": [],
      "toc_visible": true,
      "include_colab_link": true
    },
    "kernelspec": {
      "display_name": "Python 3 (ipykernel)",
      "language": "python",
      "name": "python3"
    },
    "language_info": {
      "codemirror_mode": {
        "name": "ipython",
        "version": 3
      },
      "file_extension": ".py",
      "mimetype": "text/x-python",
      "name": "python",
      "nbconvert_exporter": "python",
      "pygments_lexer": "ipython3",
      "version": "3.8.8"
    }
  },
  "nbformat": 4,
  "nbformat_minor": 0
}